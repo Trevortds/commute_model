{
 "cells": [
  {
   "cell_type": "code",
   "execution_count": 2,
   "metadata": {
    "collapsed": false
   },
   "outputs": [
    {
     "name": "stdout",
     "output_type": "stream",
     "text": [
      "True\n",
      "37\n",
      "37\n"
     ]
    }
   ],
   "source": [
    "import numpy as np\n",
    "from scipy.stats import norm, beta\n",
    "import matplotlib.pyplot as plt\n",
    "from sklearn.preprocessing import normalize\n",
    "import pandas as pd\n",
    "import math\n",
    "\n",
    "\n",
    "data = [\n",
    "    68,\n",
    "    47,\n",
    "    59,\n",
    "    64,\n",
    "    76,\n",
    "    38,\n",
    "    74,\n",
    "    33,\n",
    "    49,\n",
    "    61,\n",
    "    39,\n",
    "    48,\n",
    "    55,\n",
    "    40,\n",
    "    63,\n",
    "    52,\n",
    "    68,\n",
    "    52,\n",
    "    41,\n",
    "    56,\n",
    "    47,\n",
    "    46,\n",
    "    36,\n",
    "    45,\n",
    "    35,\n",
    "    55,\n",
    "    74,\n",
    "    45,\n",
    "    51,\n",
    "    38,\n",
    "    83,\n",
    "    48,\n",
    "    54,\n",
    "    46,\n",
    "    33,\n",
    "    39,\n",
    "    41,\n",
    "    50,\n",
    "    36,\n",
    "    40,\n",
    "    48,\n",
    "    42,\n",
    "    47,\n",
    "    47,\n",
    "]\n",
    "\n",
    "start_time = [\n",
    "    9.97165539,\n",
    "    10.39153262,\n",
    "    10.26411119,\n",
    "    9.56113323,\n",
    "    9.87167164,\n",
    "    10.09388754,\n",
    "    9.85267013,\n",
    "    10+14/60,\n",
    "    10+3/60,\n",
    "    9+53/60,\n",
    "    10+10/60,\n",
    "    10.0,\n",
    "    9+45/60,\n",
    "    9+15/60,\n",
    "    9+55/60,\n",
    "    9+54/60,\n",
    "    9+34/60,\n",
    "    9+6/60,\n",
    "    9+25/60,\n",
    "    8+5/6,\n",
    "    9+52/60,\n",
    "    9+48/60,\n",
    "    10+11/60,\n",
    "    8.5,\n",
    "    9+48/60,\n",
    "    10,\n",
    "    8+47/60,\n",
    "    9+32/60,\n",
    "    9+5/60,\n",
    "    9+11/60,\n",
    "    10,\n",
    "    9+39/60,\n",
    "    8+47/60,\n",
    "    9+23/60,\n",
    "    9+53/60,\n",
    "    8+25/60,\n",
    "    10+29/60,\n",
    "    9+10/60,\n",
    "    9+8/60,\n",
    "    9+8/60,\n",
    "    8+37/60,\n",
    "    9+5/60,\n",
    "    9+2/60,\n",
    "    10+7/60,\n",
    "]\n",
    "\n",
    "# Generate some data for this demonstration.\n",
    "\n",
    "\n",
    "data = np.asarray(data[7:])\n",
    "start_time = np.asarray(start_time[7:])\n",
    "\n",
    "print(len(data) == len(start_time))\n",
    "print(len(data))\n",
    "print(len(start_time))\n",
    "if len(data) != len(start_time):\n",
    "    raise Exception(\"Data and start-time not of equal length!\")\n"
   ]
  },
  {
   "cell_type": "code",
   "execution_count": 3,
   "metadata": {
    "collapsed": true
   },
   "outputs": [],
   "source": [
    "# import jtplot module in notebook\n",
    "from jupyterthemes import jtplot\n",
    "\n",
    "# choose which theme to inherit plotting style from\n",
    "# onedork | grade3 | oceans16 | chesterish | monokai | solarizedl | solarizedd\n",
    "jtplot.style(theme='solarizedd')\n",
    "\n",
    "# set \"context\" (paper, notebook, talk, poster)\n",
    "# scale font-size of ticklabels, legend, etc.\n",
    "# remove spines from x and y axes and make grid dashed\n",
    "jtplot.style(context='notebook', fscale=1.4, spines=False, gridlines='--')\n",
    "\n",
    "# turn on X- and Y-axis tick marks (default=False)\n",
    "# turn off the axis grid lines (default=True)\n",
    "# and set the default figure size\n",
    "jtplot.style(ticks=True, grid=False, figsize=(6, 4.5))\n",
    "\n",
    "# reset default matplotlib rcParams\n",
    "jtplot.reset()"
   ]
  },
  {
   "cell_type": "code",
   "execution_count": 4,
   "metadata": {
    "collapsed": false,
    "scrolled": true
   },
   "outputs": [
    {
     "name": "stderr",
     "output_type": "stream",
     "text": [
      "/opt/anaconda/envs/ayfiepy/lib/python3.5/site-packages/scipy/stats/_continuous_distns.py:407: RuntimeWarning: invalid value encountered in sqrt\n",
      "  sk = 2*(b-a)*sqrt(a + b + 1) / (a + b + 2) / sqrt(a*b)\n"
     ]
    },
    {
     "data": {
      "text/plain": [
       "<matplotlib.text.Text at 0x7f78c88f2550>"
      ]
     },
     "execution_count": 4,
     "metadata": {},
     "output_type": "execute_result"
    }
   ],
   "source": [
    "\n",
    "\n",
    "\n",
    "\n",
    "\n",
    "\n",
    "# Fit a normal distribution to the data:\n",
    "mu, std = norm.fit(data)\n",
    "# Fit a beta distribution to the data\n",
    "betaparams = beta.fit(data)\n",
    "\n",
    "plt.figure(1)\n",
    "# plt.subplot(211)\n",
    "\n",
    "# Plot the histogram.\n",
    "plt.hist(data, bins=2*len(data), normed=True, alpha=0.6, color='g')\n",
    "\n",
    "# Plot the PDF.\n",
    "xmin, xmax = plt.xlim()\n",
    "x = np.linspace(xmin, xmax, 100)\n",
    "p = norm.pdf(x, mu, std)\n",
    "plt.plot(x, p, 'k', linewidth=2)\n",
    "b = beta.pdf(x, *betaparams)\n",
    "plt.plot(x, b, 'r', linewidth=2)\n",
    "title = \"Normal fit: mu = %.2f,  std = %.2f\" % (mu, std)\n",
    "plt.suptitle(title)\n",
    "subtitle = \"black: normal, red: beta\"\n",
    "plt.title(subtitle)\n",
    "\n"
   ]
  },
  {
   "cell_type": "code",
   "execution_count": 5,
   "metadata": {
    "collapsed": false
   },
   "outputs": [
    {
     "data": {
      "image/png": "[encoded data removed]",
      "text/plain": [
       "<matplotlib.figure.Figure at 0x7f78fc4ec048>"
      ]
     },
     "metadata": {},
     "output_type": "display_data"
    }
   ],
   "source": [
    "plt.show()"
   ]
  },
  {
   "cell_type": "code",
   "execution_count": 6,
   "metadata": {
    "collapsed": false,
    "scrolled": true
   },
   "outputs": [
    {
     "name": "stdout",
     "output_type": "stream",
     "text": [
      "95% confidence interval on the mean assuming normal distribution\n",
      "(37.347495537039968, 59.030882841338411)\n",
      "95% confidence interval on the mean assuming beta distribution\n",
      "(37.143548054349729, 59.609691371962242)\n"
     ]
    }
   ],
   "source": [
    "from scipy.stats import  sem\n",
    "\n",
    "print(\"95% confidence interval on the mean assuming normal distribution\")\n",
    "print(norm.interval(0.68, mu, std))\n",
    "print(\"95% confidence interval on the mean assuming beta distribution\")\n",
    "print(beta.interval(0.68, *betaparams))\n",
    "\n",
    "\n"
   ]
  },
  {
   "cell_type": "code",
   "execution_count": 7,
   "metadata": {
    "collapsed": false,
    "scrolled": true
   },
   "outputs": [
    {
     "name": "stdout",
     "output_type": "stream",
     "text": [
      "90% sure that I will be at work in (normal/beta) minutes or less\n",
      "62.1608110222\n",
      "64.1959945609\n",
      "60% sure that I will be at work in (normal/beta) minutes or less\n",
      "50.9512083015\n",
      "48.8879569072\n",
      "90% sure that I will take (normal/beta) minutes or more\n",
      "34.2175673562\n",
      "35.6742826129\n"
     ]
    }
   ],
   "source": [
    "print(\"90% sure that I will be at work in (normal/beta) minutes or less\")\n",
    "print(norm.ppf(.90, mu, std))\n",
    "print(beta.ppf(.90, *betaparams))\n",
    "\n",
    "print(\"60% sure that I will be at work in (normal/beta) minutes or less\")\n",
    "print(norm.ppf(.60, mu, std))\n",
    "print(beta.ppf(.60, *betaparams))\n",
    "\n",
    "print(\"90% sure that I will take (normal/beta) minutes or more\")\n",
    "print(norm.ppf(.10, mu, std))\n",
    "print(beta.ppf(.10, *betaparams))\n"
   ]
  },
  {
   "cell_type": "code",
   "execution_count": 22,
   "metadata": {
    "collapsed": false
   },
   "outputs": [
    {
     "name": "stdout",
     "output_type": "stream",
     "text": [
      "Basis Function:\n",
      "%weights1 + %weights2*sin(1*2*%timeh) + %weights3*cos(1*2*%timeh) + %weights4*sin(2*2*%timeh) + %weights5*cos(2*2*%timeh) + %weights6*sin(3*2*%timeh) + %weights7*cos(3*2*%timeh)"
     ]
    }
   ],
   "source": [
    "def poly_basis(x, degree=1):\n",
    "    X = pd.DataFrame(x)\n",
    "    X[1] = X[0]\n",
    "    X[0] = 1\n",
    "    for i in range(0, degree+1):\n",
    "        X[i] = X[1]**i\n",
    "    return X\n",
    "\n",
    "def fourier_basis(x, o=1, degree=1):\n",
    "    try:\n",
    "        X_0 = pd.DataFrame(x)\n",
    "        X = pd.DataFrame(x)\n",
    "    except:\n",
    "        X = pd.DataFrame([x])\n",
    "        X_0 = pd.DataFrame([x])\n",
    "    X[0] = 1 # b\n",
    "    print(\"Basis Function:\")\n",
    "    print(\"%weights1\", end=\"\")\n",
    "    for i in range(0, degree):\n",
    "        print(\" + %weights{c}*sin({a}*{b}*%timeh) + %weights{d}*cos({a}*{b}*%timeh)\".format(a=i+1, b=o, c=2*i+2, d=2*i+3), end=\"\")\n",
    "        X[2*i+1] = X_0.apply(lambda x: math.sin((i+1)*o*x), axis=1)\n",
    "        X[2*i+2] = X_0.apply(lambda x: math.cos((i+1)*o*x ), axis=1)\n",
    "    return X\n",
    "\n",
    "basis = lambda x: fourier_basis(x, 2, 3)\n",
    "\n",
    "\n",
    "mean = sum(data)/len(data)\n",
    "# mean = 0\n",
    "X = basis(start_time)\n",
    "t = data - mean\n"
   ]
  },
  {
   "cell_type": "code",
   "execution_count": 13,
   "metadata": {
    "collapsed": false
   },
   "outputs": [
    {
     "name": "stdout",
     "output_type": "stream",
     "text": [
      "weights\n",
      "[-1.64059225 -1.03745933  2.03245397 -0.49937799 -0.80346636  4.75818243\n",
      " -5.28077619]\n",
      "mean\n",
      "48.1891891892\n",
      "variance\n",
      "93.2478276437\n",
      "    0         1         2         3         4         5         6\n",
      "0   1  0.998928 -0.046298 -0.092496 -0.995713 -0.990363  0.138497\n",
      "1   1  0.949125  0.314901  0.597760 -0.801675 -0.572654 -0.819797\n",
      "2   1  0.793848  0.608116  0.965504 -0.260389  0.380429 -0.924810\n",
      "3   1  0.996216  0.086909  0.173161 -0.984894 -0.966118 -0.258102\n",
      "4   1  0.912945  0.408082  0.745113 -0.666938 -0.304811 -0.952413\n",
      "5   1  0.605540  0.795815  0.963795  0.266643  0.928466 -0.371418\n",
      "6   1 -0.342481  0.939525 -0.643538  0.765414 -0.866760  0.498726\n",
      "7   1  0.832596  0.553881  0.922318 -0.386431  0.189115 -0.981955\n",
      "8   1  0.813674  0.581322  0.946013 -0.324130  0.286202 -0.958169\n",
      "9   1  0.279984  0.960005  0.537572  0.843218  0.752159  0.658982\n",
      "10  1 -0.604833  0.796352 -0.963320  0.268355 -0.929452 -0.368943\n",
      "11  1 -0.016222  0.999868 -0.032439  0.999474 -0.048649  0.998816\n",
      "12  1 -0.925703  0.378252 -0.700297 -0.713851  0.395925 -0.918283\n",
      "13  1  0.773140  0.634235  0.980705 -0.195491  0.470856 -0.882210\n",
      "14  1  0.681964  0.731386  0.997557  0.069851  0.777236 -0.629210\n",
      "15  1  0.998559  0.053660  0.107165 -0.994241 -0.987058 -0.160361\n",
      "16  1 -0.961397 -0.275163  0.529083 -0.848570  0.670229  0.742154\n",
      "17  1  0.681964  0.731386  0.997557  0.069851  0.777236 -0.629210\n",
      "18  1  0.912945  0.408082  0.745113 -0.666938 -0.304811 -0.952413\n",
      "19  1 -0.958840  0.283946 -0.544518 -0.838749  0.649613 -0.760265\n",
      "20  1  0.215409  0.976524  0.420704  0.907198  0.606246  0.795277\n",
      "21  1 -0.631037  0.775753 -0.979057  0.203585 -0.887976 -0.459890\n",
      "22  1 -0.464340  0.885657 -0.822492  0.568777 -0.992552  0.121825\n",
      "23  1  0.912945  0.408082  0.745113 -0.666938 -0.304811 -0.952413\n",
      "24  1  0.435365  0.900254  0.783879  0.620914  0.976014  0.217707\n",
      "25  1 -0.958840  0.283946 -0.544518 -0.838749  0.649613 -0.760265\n",
      "26  1 -0.082794  0.996567 -0.165020  0.986290 -0.246113  0.969241\n",
      "27  1  0.793848  0.608116  0.965504 -0.260389  0.380429 -0.924810\n",
      "28  1 -0.902427 -0.430843  0.777608 -0.628749  0.232374  0.972627\n",
      "29  1  0.854445 -0.519542 -0.887840 -0.460153  0.068094  0.997679\n",
      "30  1 -0.493598  0.869690 -0.858555  0.512721 -0.999755  0.022127\n",
      "31  1 -0.550438  0.834876 -0.919095  0.394035 -0.984223 -0.176935\n",
      "32  1 -0.550438  0.834876 -0.919095  0.394035 -0.984223 -0.176935\n",
      "33  1 -0.998968 -0.045411  0.090728 -0.995876  0.990728  0.135857\n",
      "34  1 -0.631037  0.775753 -0.979057  0.203585 -0.887976 -0.459890\n",
      "35  1 -0.705330  0.708879 -0.999987  0.005018 -0.712409 -0.701765\n",
      "36  1  0.982563  0.185931  0.365377 -0.930860 -0.846693 -0.532081\n"
     ]
    }
   ],
   "source": [
    "# from machine learning class notes page 71\n",
    "_lambda = 0.05\n",
    "w = np.dot(np.linalg.inv(np.dot(X.T, X) + len(X) * _lambda * np.identity(X.shape[1])), np.dot(X.T, t))\n",
    "w\n",
    "s_2 = 1/len(data) * (np.dot(t.T, t) - np.dot(np.dot(t.T, X), w))\n",
    "print(\"weights\")\n",
    "\n",
    "print(w)\n",
    "print(\"mean\")\n",
    "print(mean)\n",
    "print(\"variance\")\n",
    "print(s_2)\n"
   ]
  },
  {
   "cell_type": "code",
   "execution_count": 10,
   "metadata": {
    "collapsed": false
   },
   "outputs": [
    {
     "data": {
      "text/plain": [
       "(8, 10.6)"
      ]
     },
     "execution_count": 10,
     "metadata": {},
     "output_type": "execute_result"
    }
   ],
   "source": [
    "# plot it\n",
    "\n",
    "fit_fn = lambda x : np.dot(basis(x), w) + mean\n",
    "\n",
    "bleh = np.arange(8.0, 10.6, 0.01)\n",
    "last_n = 3\n",
    "\n",
    "# plt.subplot(212)\n",
    "plt.plot(start_time, t + mean, 'go', \n",
    "         bleh, fit_fn(bleh), '-k', \n",
    "         start_time[-last_n:], t[-last_n:] + mean, 'sr'\n",
    "        )\n",
    "# plt.ylim(30, 70)\n",
    "plt.xlim(8,10.6)\n"
   ]
  },
  {
   "cell_type": "code",
   "execution_count": 11,
   "metadata": {
    "collapsed": false,
    "scrolled": true
   },
   "outputs": [
    {
     "data": {
      "image/png": "[encoded data removed]",
      "text/plain": [
       "<matplotlib.figure.Figure at 0x7f78c889e7b8>"
      ]
     },
     "metadata": {},
     "output_type": "display_data"
    }
   ],
   "source": [
    "plt.show()"
   ]
  },
  {
   "cell_type": "code",
   "execution_count": 11,
   "metadata": {
    "collapsed": false
   },
   "outputs": [
    {
     "name": "stdout",
     "output_type": "stream",
     "text": [
      "[ 43.97121552]\n",
      "95% confidence interval on the mean assuming normal distribution\n",
      "(array([ 34.36824145]), array([ 53.5741896]))\n",
      "90% sure that I will be at work in (normal/beta) minutes or less\n",
      "[ 56.34650729]\n",
      "60% sure that I will be at work in (normal/beta) minutes or less\n",
      "[ 46.41765967]\n",
      "90% sure that I will take (normal/beta) minutes or more\n",
      "[ 31.59592375]\n"
     ]
    }
   ],
   "source": [
    "currenttime = 9+10/60\n",
    "print(fit_fn(currenttime))\n",
    "    \n",
    "print(\"95% confidence interval on the mean assuming normal distribution\")\n",
    "print(norm.interval(0.68, fit_fn(currenttime), math.sqrt(s_2)))\n",
    "\n",
    "print(\"90% sure that I will be at work in (normal/beta) minutes or less\")\n",
    "print(norm.ppf(.90, fit_fn(currenttime), math.sqrt(s_2)))\n",
    "\n",
    "print(\"60% sure that I will be at work in (normal/beta) minutes or less\")\n",
    "print(norm.ppf(.60, fit_fn(currenttime), math.sqrt(s_2)))\n",
    "\n",
    "print(\"90% sure that I will take (normal/beta) minutes or more\")\n",
    "print(norm.ppf(.10, fit_fn(currenttime), math.sqrt(s_2)))\n"
   ]
  },
  {
   "cell_type": "code",
   "execution_count": 12,
   "metadata": {
    "collapsed": true
   },
   "outputs": [],
   "source": [
    "# let's try to do it with a prior now.\n",
    "\n"
   ]
  },
  {
   "cell_type": "code",
   "execution_count": 33,
   "metadata": {
    "collapsed": false
   },
   "outputs": [
    {
     "data": {
      "image/png": "[encoded data removed]",
      "text/plain": [
       "<matplotlib.figure.Figure at 0x7f7646c6c3c8>"
      ]
     },
     "metadata": {},
     "output_type": "display_data"
    }
   ],
   "source": [
    "# loocv\n",
    "\n",
    "for i in range(len(X)):\n",
    "    X_1 = X.drop(i)\n",
    "    t_1 = np.concatenate([t[:i], t[i+1:]])\n",
    "    start_time_1 = np.concatenate([start_time[:i], start_time[i+1:]])\n",
    "    w = np.dot(np.linalg.inv(np.dot(X_1.T, X_1) + len(X_1) * _lambda * np.identity(X_1.shape[1])), np.dot(X_1.T, t_1))\n",
    "    fit_fn = lambda x : np.dot(basis(x), w) + mean\n",
    "    plt.plot(start_time_1, t_1 + mean, 'go', \n",
    "         bleh, fit_fn(bleh), '-k', \n",
    "         start_time_1[-last_n:], t_1[-last_n:] + mean, 'sr'\n",
    "        )\n",
    "    \n",
    "plt.xlim(8,10.6)\n",
    "plt.show()"
   ]
  },
  {
   "cell_type": "code",
   "execution_count": 26,
   "metadata": {
    "collapsed": false
   },
   "outputs": [
    {
     "name": "stdout",
     "output_type": "stream",
     "text": [
      "Basis Function:\n",
      "%weights1 + %weights2*sin(1*2*%timeh) + %weights3*cos(1*2*%timeh) + %weights4*sin(2*2*%timeh) + %weights5*cos(2*2*%timeh) + %weights6*sin(3*2*%timeh) + %weights7*cos(3*2*%timeh)"
     ]
    },
    {
     "data": {
      "text/plain": [
       "array([-8.00628651])"
      ]
     },
     "execution_count": 26,
     "metadata": {},
     "output_type": "execute_result"
    }
   ],
   "source": [
    "np.dot(basis(14+38/60), w)"
   ]
  },
  {
   "cell_type": "code",
   "execution_count": null,
   "metadata": {
    "collapsed": true
   },
   "outputs": [],
   "source": []
  },
  {
   "cell_type": "code",
   "execution_count": null,
   "metadata": {
    "collapsed": true
   },
   "outputs": [],
   "source": []
  },
  {
   "cell_type": "code",
   "execution_count": null,
   "metadata": {
    "collapsed": true
   },
   "outputs": [],
   "source": []
  },
  {
   "cell_type": "code",
   "execution_count": null,
   "metadata": {
    "collapsed": true
   },
   "outputs": [],
   "source": []
  },
  {
   "cell_type": "code",
   "execution_count": null,
   "metadata": {
    "collapsed": true
   },
   "outputs": [],
   "source": []
  },
  {
   "cell_type": "code",
   "execution_count": null,
   "metadata": {
    "collapsed": true
   },
   "outputs": [],
   "source": []
  },
  {
   "cell_type": "code",
   "execution_count": null,
   "metadata": {
    "collapsed": true
   },
   "outputs": [],
   "source": []
  },
  {
   "cell_type": "code",
   "execution_count": null,
   "metadata": {
    "collapsed": true
   },
   "outputs": [],
   "source": []
  },
  {
   "cell_type": "code",
   "execution_count": null,
   "metadata": {
    "collapsed": true
   },
   "outputs": [],
   "source": []
  },
  {
   "cell_type": "code",
   "execution_count": 9,
   "metadata": {
    "collapsed": true
   },
   "outputs": [],
   "source": [
    "# Let's try this blog post I found\n",
    "# http://jakevdp.github.io/blog/2014/06/14/frequentism-and-bayesianism-4-bayesian-in-python/\n",
    "\n",
    "\n",
    "# Create some convenience routines for plotting\n",
    "\n",
    "def compute_sigma_level(trace1, trace2, nbins=20):\n",
    "    \"\"\"From a set of traces, bin by number of standard deviations\"\"\"\n",
    "    L, xbins, ybins = np.histogram2d(trace1, trace2, nbins)\n",
    "    L[L == 0] = 1E-16\n",
    "    logL = np.log(L)\n",
    "\n",
    "    shape = L.shape\n",
    "    L = L.ravel()\n",
    "\n",
    "    # obtain the indices to sort and unsort the flattened array\n",
    "    i_sort = np.argsort(L)[::-1]\n",
    "    i_unsort = np.argsort(i_sort)\n",
    "\n",
    "    L_cumsum = L[i_sort].cumsum()\n",
    "    L_cumsum /= L_cumsum[-1]\n",
    "    \n",
    "    xbins = 0.5 * (xbins[1:] + xbins[:-1])\n",
    "    ybins = 0.5 * (ybins[1:] + ybins[:-1])\n",
    "\n",
    "    return xbins, ybins, L_cumsum[i_unsort].reshape(shape)\n",
    "\n",
    "\n",
    "def plot_MCMC_trace(ax, xdata, ydata, trace, scatter=False, **kwargs):\n",
    "    \"\"\"Plot traces and contours\"\"\"\n",
    "    xbins, ybins, sigma = compute_sigma_level(trace[0], trace[1])\n",
    "    ax.contour(xbins, ybins, sigma.T, levels=[0.683, 0.955], **kwargs)\n",
    "    if scatter:\n",
    "        ax.plot(trace[0], trace[1], ',k', alpha=0.1)\n",
    "    ax.set_xlabel(r'$\\alpha$')\n",
    "    ax.set_ylabel(r'$\\beta$')\n",
    "    \n",
    "    \n",
    "def plot_MCMC_model(ax, xdata, ydata, trace):\n",
    "    \"\"\"Plot the linear model and 2sigma contours\"\"\"\n",
    "    ax.plot(xdata, ydata, 'ok')\n",
    "\n",
    "    alpha, beta = trace[:2]\n",
    "    xfit = np.linspace(9, 11, 10)\n",
    "    yfit = alpha[:, None] + beta[:, None] * xfit\n",
    "    mu = yfit.mean(0)\n",
    "    sig = 2 * yfit.std(0)\n",
    "\n",
    "    ax.plot(xfit, mu, '-k')\n",
    "    ax.fill_between(xfit, mu - sig, mu + sig, color='lightgray')\n",
    "\n",
    "    ax.set_xlabel('x')\n",
    "    ax.set_ylabel('y')\n",
    "\n",
    "\n",
    "def plot_MCMC_results(xdata, ydata, trace, colors='k'):\n",
    "    \"\"\"Plot both the trace and the model together\"\"\"\n",
    "    fig, ax = plt.subplots(1, 2, figsize=(10, 4))\n",
    "    plot_MCMC_trace(ax[0], xdata, ydata, trace, True, colors=colors)\n",
    "    plot_MCMC_model(ax[1], xdata, ydata, trace)\n",
    "    \n",
    "    \n",
    "    "
   ]
  },
  {
   "cell_type": "code",
   "execution_count": 6,
   "metadata": {
    "collapsed": false
   },
   "outputs": [
    {
     "name": "stdout",
     "output_type": "stream",
     "text": [
      "2.2.1\n"
     ]
    }
   ],
   "source": [
    "import emcee\n",
    "print(emcee.__version__)\n",
    "\n",
    "# Define our posterior using Python functions\n",
    "# for clarity, I've separated-out the prior and likelihood\n",
    "# but this is not necessary. Note that emcee requires log-posterior\n",
    "\n",
    "def log_prior(theta):\n",
    "    alpha, beta, sigma = theta\n",
    "    if sigma < 0:\n",
    "        return -np.inf  # log(0)\n",
    "    else:\n",
    "        return -1.5 * np.log(1 + beta ** 2) - np.log(sigma)\n",
    "\n",
    "def log_likelihood(theta, x, y):\n",
    "    alpha, beta, sigma = theta\n",
    "    y_model = alpha + beta * x\n",
    "    return -0.5 * np.sum(np.log(2 * np.pi * sigma ** 2) + (y - y_model) ** 2 / sigma ** 2)\n",
    "\n",
    "def log_posterior(theta, x, y):\n",
    "    return log_prior(theta) + log_likelihood(theta, x, y)\n",
    "\n",
    "\n"
   ]
  },
  {
   "cell_type": "code",
   "execution_count": 199,
   "metadata": {
    "collapsed": false
   },
   "outputs": [
    {
     "name": "stdout",
     "output_type": "stream",
     "text": [
      "emcee: Exception while calling your likelihood function:\n",
      "  params: [ 0.5488135   0.71518937  0.60276338  0.54488318]\n",
      "  args: [array([ 10.23333333,  10.05      ,   9.88333333,  10.16666667,\n",
      "        10.        ,   9.75      ,   9.25      ,   9.91666667,\n",
      "         9.9       ,   9.56666667,   9.1       ,   9.41666667,\n",
      "         8.83333333,   9.86666667,   9.8       ]), array([33, 49, 61, 39, 48, 55, 40, 63, 52, 68, 52, 41, 56, 47, 46])]\n",
      "  kwargs: {}\n",
      "  exception:\n"
     ]
    },
    {
     "name": "stderr",
     "output_type": "stream",
     "text": [
      "Traceback (most recent call last):\n",
      "  File \"/opt/anaconda/envs/ayfiepy/lib/python3.5/site-packages/emcee/ensemble.py\", line 519, in __call__\n",
      "    return self.f(x, *self.args, **self.kwargs)\n",
      "  File \"<ipython-input-6-a952260976e6>\", line 21, in log_posterior\n",
      "    return log_prior(theta) + log_likelihood(theta, x, y)\n",
      "  File \"<ipython-input-6-a952260976e6>\", line 9, in log_prior\n",
      "    alpha, beta, sigma = theta\n",
      "ValueError: too many values to unpack (expected 3)\n"
     ]
    },
    {
     "ename": "ValueError",
     "evalue": "too many values to unpack (expected 3)",
     "output_type": "error",
     "traceback": [
      "\u001b[0;31m---------------------------------------------------------------------------\u001b[0m",
      "\u001b[0;31mValueError\u001b[0m                                Traceback (most recent call last)",
      "\u001b[0;32m<ipython-input-199-bc2f0d011232>\u001b[0m in \u001b[0;36m<module>\u001b[0;34m()\u001b[0m\n\u001b[1;32m     16\u001b[0m \u001b[0;34m\u001b[0m\u001b[0m\n\u001b[1;32m     17\u001b[0m \u001b[0msampler\u001b[0m \u001b[0;34m=\u001b[0m \u001b[0memcee\u001b[0m\u001b[0;34m.\u001b[0m\u001b[0mEnsembleSampler\u001b[0m\u001b[0;34m(\u001b[0m\u001b[0mnwalkers\u001b[0m\u001b[0;34m,\u001b[0m \u001b[0mndim\u001b[0m\u001b[0;34m,\u001b[0m \u001b[0mlog_posterior\u001b[0m\u001b[0;34m,\u001b[0m \u001b[0margs\u001b[0m\u001b[0;34m=\u001b[0m\u001b[0;34m[\u001b[0m\u001b[0mstart_time\u001b[0m\u001b[0;34m,\u001b[0m \u001b[0mdata\u001b[0m\u001b[0;34m]\u001b[0m\u001b[0;34m)\u001b[0m\u001b[0;34m\u001b[0m\u001b[0m\n\u001b[0;32m---> 18\u001b[0;31m \u001b[0mget_ipython\u001b[0m\u001b[0;34m(\u001b[0m\u001b[0;34m)\u001b[0m\u001b[0;34m.\u001b[0m\u001b[0mmagic\u001b[0m\u001b[0;34m(\u001b[0m\u001b[0;34m'time sampler.run_mcmc(starting_guesses, nsteps)'\u001b[0m\u001b[0;34m)\u001b[0m\u001b[0;34m\u001b[0m\u001b[0m\n\u001b[0m\u001b[1;32m     19\u001b[0m \u001b[0mprint\u001b[0m\u001b[0;34m(\u001b[0m\u001b[0;34m\"done\"\u001b[0m\u001b[0;34m)\u001b[0m\u001b[0;34m\u001b[0m\u001b[0m\n",
      "\u001b[0;32m/opt/anaconda/envs/ayfiepy/lib/python3.5/site-packages/IPython/core/interactiveshell.py\u001b[0m in \u001b[0;36mmagic\u001b[0;34m(self, arg_s)\u001b[0m\n\u001b[1;32m   2156\u001b[0m         \u001b[0mmagic_name\u001b[0m\u001b[0;34m,\u001b[0m \u001b[0m_\u001b[0m\u001b[0;34m,\u001b[0m \u001b[0mmagic_arg_s\u001b[0m \u001b[0;34m=\u001b[0m \u001b[0marg_s\u001b[0m\u001b[0;34m.\u001b[0m\u001b[0mpartition\u001b[0m\u001b[0;34m(\u001b[0m\u001b[0;34m' '\u001b[0m\u001b[0;34m)\u001b[0m\u001b[0;34m\u001b[0m\u001b[0m\n\u001b[1;32m   2157\u001b[0m         \u001b[0mmagic_name\u001b[0m \u001b[0;34m=\u001b[0m \u001b[0mmagic_name\u001b[0m\u001b[0;34m.\u001b[0m\u001b[0mlstrip\u001b[0m\u001b[0;34m(\u001b[0m\u001b[0mprefilter\u001b[0m\u001b[0;34m.\u001b[0m\u001b[0mESC_MAGIC\u001b[0m\u001b[0;34m)\u001b[0m\u001b[0;34m\u001b[0m\u001b[0m\n\u001b[0;32m-> 2158\u001b[0;31m         \u001b[0;32mreturn\u001b[0m \u001b[0mself\u001b[0m\u001b[0;34m.\u001b[0m\u001b[0mrun_line_magic\u001b[0m\u001b[0;34m(\u001b[0m\u001b[0mmagic_name\u001b[0m\u001b[0;34m,\u001b[0m \u001b[0mmagic_arg_s\u001b[0m\u001b[0;34m)\u001b[0m\u001b[0;34m\u001b[0m\u001b[0m\n\u001b[0m\u001b[1;32m   2159\u001b[0m \u001b[0;34m\u001b[0m\u001b[0m\n\u001b[1;32m   2160\u001b[0m     \u001b[0;31m#-------------------------------------------------------------------------\u001b[0m\u001b[0;34m\u001b[0m\u001b[0;34m\u001b[0m\u001b[0m\n",
      "\u001b[0;32m/opt/anaconda/envs/ayfiepy/lib/python3.5/site-packages/IPython/core/interactiveshell.py\u001b[0m in \u001b[0;36mrun_line_magic\u001b[0;34m(self, magic_name, line)\u001b[0m\n\u001b[1;32m   2077\u001b[0m                 \u001b[0mkwargs\u001b[0m\u001b[0;34m[\u001b[0m\u001b[0;34m'local_ns'\u001b[0m\u001b[0;34m]\u001b[0m \u001b[0;34m=\u001b[0m \u001b[0msys\u001b[0m\u001b[0;34m.\u001b[0m\u001b[0m_getframe\u001b[0m\u001b[0;34m(\u001b[0m\u001b[0mstack_depth\u001b[0m\u001b[0;34m)\u001b[0m\u001b[0;34m.\u001b[0m\u001b[0mf_locals\u001b[0m\u001b[0;34m\u001b[0m\u001b[0m\n\u001b[1;32m   2078\u001b[0m             \u001b[0;32mwith\u001b[0m \u001b[0mself\u001b[0m\u001b[0;34m.\u001b[0m\u001b[0mbuiltin_trap\u001b[0m\u001b[0;34m:\u001b[0m\u001b[0;34m\u001b[0m\u001b[0m\n\u001b[0;32m-> 2079\u001b[0;31m                 \u001b[0mresult\u001b[0m \u001b[0;34m=\u001b[0m \u001b[0mfn\u001b[0m\u001b[0;34m(\u001b[0m\u001b[0;34m*\u001b[0m\u001b[0margs\u001b[0m\u001b[0;34m,\u001b[0m\u001b[0;34m**\u001b[0m\u001b[0mkwargs\u001b[0m\u001b[0;34m)\u001b[0m\u001b[0;34m\u001b[0m\u001b[0m\n\u001b[0m\u001b[1;32m   2080\u001b[0m             \u001b[0;32mreturn\u001b[0m \u001b[0mresult\u001b[0m\u001b[0;34m\u001b[0m\u001b[0m\n\u001b[1;32m   2081\u001b[0m \u001b[0;34m\u001b[0m\u001b[0m\n",
      "\u001b[0;32m<decorator-gen-59>\u001b[0m in \u001b[0;36mtime\u001b[0;34m(self, line, cell, local_ns)\u001b[0m\n",
      "\u001b[0;32m/opt/anaconda/envs/ayfiepy/lib/python3.5/site-packages/IPython/core/magic.py\u001b[0m in \u001b[0;36m<lambda>\u001b[0;34m(f, *a, **k)\u001b[0m\n\u001b[1;32m    186\u001b[0m     \u001b[0;31m# but it's overkill for just that one bit of state.\u001b[0m\u001b[0;34m\u001b[0m\u001b[0;34m\u001b[0m\u001b[0m\n\u001b[1;32m    187\u001b[0m     \u001b[0;32mdef\u001b[0m \u001b[0mmagic_deco\u001b[0m\u001b[0;34m(\u001b[0m\u001b[0marg\u001b[0m\u001b[0;34m)\u001b[0m\u001b[0;34m:\u001b[0m\u001b[0;34m\u001b[0m\u001b[0m\n\u001b[0;32m--> 188\u001b[0;31m         \u001b[0mcall\u001b[0m \u001b[0;34m=\u001b[0m \u001b[0;32mlambda\u001b[0m \u001b[0mf\u001b[0m\u001b[0;34m,\u001b[0m \u001b[0;34m*\u001b[0m\u001b[0ma\u001b[0m\u001b[0;34m,\u001b[0m \u001b[0;34m**\u001b[0m\u001b[0mk\u001b[0m\u001b[0;34m:\u001b[0m \u001b[0mf\u001b[0m\u001b[0;34m(\u001b[0m\u001b[0;34m*\u001b[0m\u001b[0ma\u001b[0m\u001b[0;34m,\u001b[0m \u001b[0;34m**\u001b[0m\u001b[0mk\u001b[0m\u001b[0;34m)\u001b[0m\u001b[0;34m\u001b[0m\u001b[0m\n\u001b[0m\u001b[1;32m    189\u001b[0m \u001b[0;34m\u001b[0m\u001b[0m\n\u001b[1;32m    190\u001b[0m         \u001b[0;32mif\u001b[0m \u001b[0mcallable\u001b[0m\u001b[0;34m(\u001b[0m\u001b[0marg\u001b[0m\u001b[0;34m)\u001b[0m\u001b[0;34m:\u001b[0m\u001b[0;34m\u001b[0m\u001b[0m\n",
      "\u001b[0;32m/opt/anaconda/envs/ayfiepy/lib/python3.5/site-packages/IPython/core/magics/execution.py\u001b[0m in \u001b[0;36mtime\u001b[0;34m(self, line, cell, local_ns)\u001b[0m\n\u001b[1;32m   1174\u001b[0m         \u001b[0;32mif\u001b[0m \u001b[0mmode\u001b[0m\u001b[0;34m==\u001b[0m\u001b[0;34m'eval'\u001b[0m\u001b[0;34m:\u001b[0m\u001b[0;34m\u001b[0m\u001b[0m\n\u001b[1;32m   1175\u001b[0m             \u001b[0mst\u001b[0m \u001b[0;34m=\u001b[0m \u001b[0mclock2\u001b[0m\u001b[0;34m(\u001b[0m\u001b[0;34m)\u001b[0m\u001b[0;34m\u001b[0m\u001b[0m\n\u001b[0;32m-> 1176\u001b[0;31m             \u001b[0mout\u001b[0m \u001b[0;34m=\u001b[0m \u001b[0meval\u001b[0m\u001b[0;34m(\u001b[0m\u001b[0mcode\u001b[0m\u001b[0;34m,\u001b[0m \u001b[0mglob\u001b[0m\u001b[0;34m,\u001b[0m \u001b[0mlocal_ns\u001b[0m\u001b[0;34m)\u001b[0m\u001b[0;34m\u001b[0m\u001b[0m\n\u001b[0m\u001b[1;32m   1177\u001b[0m             \u001b[0mend\u001b[0m \u001b[0;34m=\u001b[0m \u001b[0mclock2\u001b[0m\u001b[0;34m(\u001b[0m\u001b[0;34m)\u001b[0m\u001b[0;34m\u001b[0m\u001b[0m\n\u001b[1;32m   1178\u001b[0m         \u001b[0;32melse\u001b[0m\u001b[0;34m:\u001b[0m\u001b[0;34m\u001b[0m\u001b[0m\n",
      "\u001b[0;32m<timed eval>\u001b[0m in \u001b[0;36m<module>\u001b[0;34m()\u001b[0m\n",
      "\u001b[0;32m/opt/anaconda/envs/ayfiepy/lib/python3.5/site-packages/emcee/sampler.py\u001b[0m in \u001b[0;36mrun_mcmc\u001b[0;34m(self, pos0, N, rstate0, lnprob0, **kwargs)\u001b[0m\n\u001b[1;32m    170\u001b[0m \u001b[0;34m\u001b[0m\u001b[0m\n\u001b[1;32m    171\u001b[0m         for results in self.sample(pos0, lnprob0, rstate0, iterations=N,\n\u001b[0;32m--> 172\u001b[0;31m                                    **kwargs):\n\u001b[0m\u001b[1;32m    173\u001b[0m             \u001b[0;32mpass\u001b[0m\u001b[0;34m\u001b[0m\u001b[0m\n\u001b[1;32m    174\u001b[0m \u001b[0;34m\u001b[0m\u001b[0m\n",
      "\u001b[0;32m/opt/anaconda/envs/ayfiepy/lib/python3.5/site-packages/emcee/ensemble.py\u001b[0m in \u001b[0;36msample\u001b[0;34m(self, p0, lnprob0, rstate0, blobs0, iterations, thin, storechain, mh_proposal)\u001b[0m\n\u001b[1;32m    196\u001b[0m         \u001b[0mblobs\u001b[0m \u001b[0;34m=\u001b[0m \u001b[0mblobs0\u001b[0m\u001b[0;34m\u001b[0m\u001b[0m\n\u001b[1;32m    197\u001b[0m         \u001b[0;32mif\u001b[0m \u001b[0mlnprob\u001b[0m \u001b[0;32mis\u001b[0m \u001b[0;32mNone\u001b[0m\u001b[0;34m:\u001b[0m\u001b[0;34m\u001b[0m\u001b[0m\n\u001b[0;32m--> 198\u001b[0;31m             \u001b[0mlnprob\u001b[0m\u001b[0;34m,\u001b[0m \u001b[0mblobs\u001b[0m \u001b[0;34m=\u001b[0m \u001b[0mself\u001b[0m\u001b[0;34m.\u001b[0m\u001b[0m_get_lnprob\u001b[0m\u001b[0;34m(\u001b[0m\u001b[0mp\u001b[0m\u001b[0;34m)\u001b[0m\u001b[0;34m\u001b[0m\u001b[0m\n\u001b[0m\u001b[1;32m    199\u001b[0m \u001b[0;34m\u001b[0m\u001b[0m\n\u001b[1;32m    200\u001b[0m         \u001b[0;31m# Check to make sure that the probability function didn't return\u001b[0m\u001b[0;34m\u001b[0m\u001b[0;34m\u001b[0m\u001b[0m\n",
      "\u001b[0;32m/opt/anaconda/envs/ayfiepy/lib/python3.5/site-packages/emcee/ensemble.py\u001b[0m in \u001b[0;36m_get_lnprob\u001b[0;34m(self, pos)\u001b[0m\n\u001b[1;32m    380\u001b[0m \u001b[0;34m\u001b[0m\u001b[0m\n\u001b[1;32m    381\u001b[0m         \u001b[0;31m# Run the log-probability calculations (optionally in parallel).\u001b[0m\u001b[0;34m\u001b[0m\u001b[0;34m\u001b[0m\u001b[0m\n\u001b[0;32m--> 382\u001b[0;31m         \u001b[0mresults\u001b[0m \u001b[0;34m=\u001b[0m \u001b[0mlist\u001b[0m\u001b[0;34m(\u001b[0m\u001b[0mM\u001b[0m\u001b[0;34m(\u001b[0m\u001b[0mself\u001b[0m\u001b[0;34m.\u001b[0m\u001b[0mlnprobfn\u001b[0m\u001b[0;34m,\u001b[0m \u001b[0;34m[\u001b[0m\u001b[0mp\u001b[0m\u001b[0;34m[\u001b[0m\u001b[0mi\u001b[0m\u001b[0;34m]\u001b[0m \u001b[0;32mfor\u001b[0m \u001b[0mi\u001b[0m \u001b[0;32min\u001b[0m \u001b[0mrange\u001b[0m\u001b[0;34m(\u001b[0m\u001b[0mlen\u001b[0m\u001b[0;34m(\u001b[0m\u001b[0mp\u001b[0m\u001b[0;34m)\u001b[0m\u001b[0;34m)\u001b[0m\u001b[0;34m]\u001b[0m\u001b[0;34m)\u001b[0m\u001b[0;34m)\u001b[0m\u001b[0;34m\u001b[0m\u001b[0m\n\u001b[0m\u001b[1;32m    383\u001b[0m \u001b[0;34m\u001b[0m\u001b[0m\n\u001b[1;32m    384\u001b[0m         \u001b[0;32mtry\u001b[0m\u001b[0;34m:\u001b[0m\u001b[0;34m\u001b[0m\u001b[0m\n",
      "\u001b[0;32m/opt/anaconda/envs/ayfiepy/lib/python3.5/site-packages/emcee/ensemble.py\u001b[0m in \u001b[0;36m__call__\u001b[0;34m(self, x)\u001b[0m\n\u001b[1;32m    517\u001b[0m     \u001b[0;32mdef\u001b[0m \u001b[0m__call__\u001b[0m\u001b[0;34m(\u001b[0m\u001b[0mself\u001b[0m\u001b[0;34m,\u001b[0m \u001b[0mx\u001b[0m\u001b[0;34m)\u001b[0m\u001b[0;34m:\u001b[0m\u001b[0;34m\u001b[0m\u001b[0m\n\u001b[1;32m    518\u001b[0m         \u001b[0;32mtry\u001b[0m\u001b[0;34m:\u001b[0m\u001b[0;34m\u001b[0m\u001b[0m\n\u001b[0;32m--> 519\u001b[0;31m             \u001b[0;32mreturn\u001b[0m \u001b[0mself\u001b[0m\u001b[0;34m.\u001b[0m\u001b[0mf\u001b[0m\u001b[0;34m(\u001b[0m\u001b[0mx\u001b[0m\u001b[0;34m,\u001b[0m \u001b[0;34m*\u001b[0m\u001b[0mself\u001b[0m\u001b[0;34m.\u001b[0m\u001b[0margs\u001b[0m\u001b[0;34m,\u001b[0m \u001b[0;34m**\u001b[0m\u001b[0mself\u001b[0m\u001b[0;34m.\u001b[0m\u001b[0mkwargs\u001b[0m\u001b[0;34m)\u001b[0m\u001b[0;34m\u001b[0m\u001b[0m\n\u001b[0m\u001b[1;32m    520\u001b[0m         \u001b[0;32mexcept\u001b[0m\u001b[0;34m:\u001b[0m\u001b[0;34m\u001b[0m\u001b[0m\n\u001b[1;32m    521\u001b[0m             \u001b[0;32mimport\u001b[0m \u001b[0mtraceback\u001b[0m\u001b[0;34m\u001b[0m\u001b[0m\n",
      "\u001b[0;32m<ipython-input-6-a952260976e6>\u001b[0m in \u001b[0;36mlog_posterior\u001b[0;34m(theta, x, y)\u001b[0m\n\u001b[1;32m     19\u001b[0m \u001b[0;34m\u001b[0m\u001b[0m\n\u001b[1;32m     20\u001b[0m \u001b[0;32mdef\u001b[0m \u001b[0mlog_posterior\u001b[0m\u001b[0;34m(\u001b[0m\u001b[0mtheta\u001b[0m\u001b[0;34m,\u001b[0m \u001b[0mx\u001b[0m\u001b[0;34m,\u001b[0m \u001b[0my\u001b[0m\u001b[0;34m)\u001b[0m\u001b[0;34m:\u001b[0m\u001b[0;34m\u001b[0m\u001b[0m\n\u001b[0;32m---> 21\u001b[0;31m     \u001b[0;32mreturn\u001b[0m \u001b[0mlog_prior\u001b[0m\u001b[0;34m(\u001b[0m\u001b[0mtheta\u001b[0m\u001b[0;34m)\u001b[0m \u001b[0;34m+\u001b[0m \u001b[0mlog_likelihood\u001b[0m\u001b[0;34m(\u001b[0m\u001b[0mtheta\u001b[0m\u001b[0;34m,\u001b[0m \u001b[0mx\u001b[0m\u001b[0;34m,\u001b[0m \u001b[0my\u001b[0m\u001b[0;34m)\u001b[0m\u001b[0;34m\u001b[0m\u001b[0m\n\u001b[0m\u001b[1;32m     22\u001b[0m \u001b[0;34m\u001b[0m\u001b[0m\n\u001b[1;32m     23\u001b[0m \u001b[0;34m\u001b[0m\u001b[0m\n",
      "\u001b[0;32m<ipython-input-6-a952260976e6>\u001b[0m in \u001b[0;36mlog_prior\u001b[0;34m(theta)\u001b[0m\n\u001b[1;32m      7\u001b[0m \u001b[0;34m\u001b[0m\u001b[0m\n\u001b[1;32m      8\u001b[0m \u001b[0;32mdef\u001b[0m \u001b[0mlog_prior\u001b[0m\u001b[0;34m(\u001b[0m\u001b[0mtheta\u001b[0m\u001b[0;34m)\u001b[0m\u001b[0;34m:\u001b[0m\u001b[0;34m\u001b[0m\u001b[0m\n\u001b[0;32m----> 9\u001b[0;31m     \u001b[0malpha\u001b[0m\u001b[0;34m,\u001b[0m \u001b[0mbeta\u001b[0m\u001b[0;34m,\u001b[0m \u001b[0msigma\u001b[0m \u001b[0;34m=\u001b[0m \u001b[0mtheta\u001b[0m\u001b[0;34m\u001b[0m\u001b[0m\n\u001b[0m\u001b[1;32m     10\u001b[0m     \u001b[0;32mif\u001b[0m \u001b[0msigma\u001b[0m \u001b[0;34m<\u001b[0m \u001b[0;36m0\u001b[0m\u001b[0;34m:\u001b[0m\u001b[0;34m\u001b[0m\u001b[0m\n\u001b[1;32m     11\u001b[0m         \u001b[0;32mreturn\u001b[0m \u001b[0;34m-\u001b[0m\u001b[0mnp\u001b[0m\u001b[0;34m.\u001b[0m\u001b[0minf\u001b[0m  \u001b[0;31m# log(0)\u001b[0m\u001b[0;34m\u001b[0m\u001b[0m\n",
      "\u001b[0;31mValueError\u001b[0m: too many values to unpack (expected 3)"
     ]
    }
   ],
   "source": [
    "# Here we'll set up the computation. emcee combines multiple \"walkers\",\n",
    "# each of which is its own MCMC chain. The number of trace results will\n",
    "# be nwalkers * nsteps\n",
    "\n",
    "ndim = 3  # number of parameters in the model\n",
    "nwalkers = 50  # number of MCMC walkers\n",
    "nburn = 1000  # \"burn-in\" period to let chains stabilize\n",
    "nsteps = 2000  # number of MCMC steps to take\n",
    "\n",
    "# set theta near the maximum likelihood, with \n",
    "np.random.seed(0)\n",
    "starting_guesses = np.random.random((nwalkers, ndim))\n",
    "\n",
    "# Here's the function call where all the work happens:\n",
    "# we'll time it using IPython's %time magic\n",
    "\n",
    "sampler = emcee.EnsembleSampler(nwalkers, ndim, log_posterior, args=[start_time, data])\n",
    "%time sampler.run_mcmc(starting_guesses, nsteps)\n",
    "print(\"done\")"
   ]
  },
  {
   "cell_type": "code",
   "execution_count": 198,
   "metadata": {
    "collapsed": false
   },
   "outputs": [
    {
     "data": {
      "image/png": "[encoded data removed]",
      "text/plain": [
       "<matplotlib.figure.Figure at 0x7f4c5eddcfd0>"
      ]
     },
     "metadata": {},
     "output_type": "display_data"
    }
   ],
   "source": [
    "# sampler.chain is of shape (nwalkers, nsteps, ndim)\n",
    "# we'll throw-out the burn-in points and reshape:\n",
    "emcee_trace = sampler.chain[:, nburn:, :].reshape(-1, ndim).T\n",
    "plot_MCMC_results(start_time, data, emcee_trace)\n",
    "plt.show()"
   ]
  },
  {
   "cell_type": "code",
   "execution_count": null,
   "metadata": {
    "collapsed": true
   },
   "outputs": [],
   "source": []
  },
  {
   "cell_type": "code",
   "execution_count": null,
   "metadata": {
    "collapsed": true
   },
   "outputs": [],
   "source": []
  },
  {
   "cell_type": "code",
   "execution_count": null,
   "metadata": {
    "collapsed": true
   },
   "outputs": [],
   "source": []
  }
 ],
 "metadata": {
  "kernelspec": {
   "display_name": "Python 3",
   "language": "python",
   "name": "python3"
  },
  "language_info": {
   "codemirror_mode": {
    "name": "ipython",
    "version": 3
   },
   "file_extension": ".py",
   "mimetype": "text/x-python",
   "name": "python",
   "nbconvert_exporter": "python",
   "pygments_lexer": "ipython3",
   "version": "3.5.2"
  }
 },
 "nbformat": 4,
 "nbformat_minor": 2
}
